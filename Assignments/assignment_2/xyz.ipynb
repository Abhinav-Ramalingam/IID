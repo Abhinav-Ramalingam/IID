{
 "cells": [
  {
   "cell_type": "markdown",
   "id": "6abec3d6",
   "metadata": {},
   "source": [
    "# Assignment 2: Affect Recognition from Landmarks"
   ]
  },
  {
   "cell_type": "markdown",
   "id": "18f09595",
   "metadata": {},
   "source": [
    "**Group 2** : Abhinav Ramalingam & Victoria Van Rillaer"
   ]
  },
  {
   "cell_type": "code",
   "execution_count": 1,
   "id": "6f26e7ea",
   "metadata": {},
   "outputs": [
    {
     "name": "stdout",
     "output_type": "stream",
     "text": [
      "Requirement already satisfied: tensorflow in /Users/abhinavramalingam/Documents/Uppsala/IID/.conda/lib/python3.10/site-packages (2.18.0)\n",
      "Requirement already satisfied: absl-py>=1.0.0 in /Users/abhinavramalingam/Documents/Uppsala/IID/.conda/lib/python3.10/site-packages (from tensorflow) (2.1.0)\n",
      "Requirement already satisfied: astunparse>=1.6.0 in /Users/abhinavramalingam/Documents/Uppsala/IID/.conda/lib/python3.10/site-packages (from tensorflow) (1.6.3)\n",
      "Requirement already satisfied: flatbuffers>=24.3.25 in /Users/abhinavramalingam/Documents/Uppsala/IID/.conda/lib/python3.10/site-packages (from tensorflow) (24.3.25)\n",
      "Requirement already satisfied: gast!=0.5.0,!=0.5.1,!=0.5.2,>=0.2.1 in /Users/abhinavramalingam/Documents/Uppsala/IID/.conda/lib/python3.10/site-packages (from tensorflow) (0.6.0)\n",
      "Requirement already satisfied: google-pasta>=0.1.1 in /Users/abhinavramalingam/Documents/Uppsala/IID/.conda/lib/python3.10/site-packages (from tensorflow) (0.2.0)\n",
      "Requirement already satisfied: libclang>=13.0.0 in /Users/abhinavramalingam/Documents/Uppsala/IID/.conda/lib/python3.10/site-packages (from tensorflow) (18.1.1)\n",
      "Requirement already satisfied: opt-einsum>=2.3.2 in /Users/abhinavramalingam/Documents/Uppsala/IID/.conda/lib/python3.10/site-packages (from tensorflow) (3.4.0)\n",
      "Requirement already satisfied: packaging in /Users/abhinavramalingam/Documents/Uppsala/IID/.conda/lib/python3.10/site-packages (from tensorflow) (24.2)\n",
      "Requirement already satisfied: protobuf!=4.21.0,!=4.21.1,!=4.21.2,!=4.21.3,!=4.21.4,!=4.21.5,<6.0.0dev,>=3.20.3 in /Users/abhinavramalingam/Documents/Uppsala/IID/.conda/lib/python3.10/site-packages (from tensorflow) (4.25.5)\n",
      "Requirement already satisfied: requests<3,>=2.21.0 in /Users/abhinavramalingam/Documents/Uppsala/IID/.conda/lib/python3.10/site-packages (from tensorflow) (2.32.3)\n",
      "Requirement already satisfied: setuptools in /Users/abhinavramalingam/Documents/Uppsala/IID/.conda/lib/python3.10/site-packages (from tensorflow) (75.1.0)\n",
      "Requirement already satisfied: six>=1.12.0 in /Users/abhinavramalingam/Documents/Uppsala/IID/.conda/lib/python3.10/site-packages (from tensorflow) (1.16.0)\n",
      "Requirement already satisfied: termcolor>=1.1.0 in /Users/abhinavramalingam/Documents/Uppsala/IID/.conda/lib/python3.10/site-packages (from tensorflow) (2.5.0)\n",
      "Requirement already satisfied: typing-extensions>=3.6.6 in /Users/abhinavramalingam/Documents/Uppsala/IID/.conda/lib/python3.10/site-packages (from tensorflow) (4.12.2)\n",
      "Requirement already satisfied: wrapt>=1.11.0 in /Users/abhinavramalingam/Documents/Uppsala/IID/.conda/lib/python3.10/site-packages (from tensorflow) (1.16.0)\n",
      "Requirement already satisfied: grpcio<2.0,>=1.24.3 in /Users/abhinavramalingam/Documents/Uppsala/IID/.conda/lib/python3.10/site-packages (from tensorflow) (1.67.1)\n",
      "Requirement already satisfied: tensorboard<2.19,>=2.18 in /Users/abhinavramalingam/Documents/Uppsala/IID/.conda/lib/python3.10/site-packages (from tensorflow) (2.18.0)\n",
      "Requirement already satisfied: keras>=3.5.0 in /Users/abhinavramalingam/Documents/Uppsala/IID/.conda/lib/python3.10/site-packages (from tensorflow) (3.6.0)\n",
      "Requirement already satisfied: numpy<2.1.0,>=1.26.0 in /Users/abhinavramalingam/Documents/Uppsala/IID/.conda/lib/python3.10/site-packages (from tensorflow) (1.26.3)\n",
      "Requirement already satisfied: h5py>=3.11.0 in /Users/abhinavramalingam/Documents/Uppsala/IID/.conda/lib/python3.10/site-packages (from tensorflow) (3.12.1)\n",
      "Requirement already satisfied: ml-dtypes<0.5.0,>=0.4.0 in /Users/abhinavramalingam/Documents/Uppsala/IID/.conda/lib/python3.10/site-packages (from tensorflow) (0.4.1)\n",
      "Requirement already satisfied: tensorflow-io-gcs-filesystem>=0.23.1 in /Users/abhinavramalingam/Documents/Uppsala/IID/.conda/lib/python3.10/site-packages (from tensorflow) (0.37.1)\n",
      "Requirement already satisfied: wheel<1.0,>=0.23.0 in /Users/abhinavramalingam/Documents/Uppsala/IID/.conda/lib/python3.10/site-packages (from astunparse>=1.6.0->tensorflow) (0.44.0)\n",
      "Requirement already satisfied: rich in /Users/abhinavramalingam/Documents/Uppsala/IID/.conda/lib/python3.10/site-packages (from keras>=3.5.0->tensorflow) (13.9.4)\n",
      "Requirement already satisfied: namex in /Users/abhinavramalingam/Documents/Uppsala/IID/.conda/lib/python3.10/site-packages (from keras>=3.5.0->tensorflow) (0.0.8)\n",
      "Requirement already satisfied: optree in /Users/abhinavramalingam/Documents/Uppsala/IID/.conda/lib/python3.10/site-packages (from keras>=3.5.0->tensorflow) (0.13.1)\n",
      "Requirement already satisfied: charset-normalizer<4,>=2 in /Users/abhinavramalingam/Documents/Uppsala/IID/.conda/lib/python3.10/site-packages (from requests<3,>=2.21.0->tensorflow) (3.4.0)\n",
      "Requirement already satisfied: idna<4,>=2.5 in /Users/abhinavramalingam/Documents/Uppsala/IID/.conda/lib/python3.10/site-packages (from requests<3,>=2.21.0->tensorflow) (3.10)\n",
      "Requirement already satisfied: urllib3<3,>=1.21.1 in /Users/abhinavramalingam/Documents/Uppsala/IID/.conda/lib/python3.10/site-packages (from requests<3,>=2.21.0->tensorflow) (2.2.3)\n",
      "Requirement already satisfied: certifi>=2017.4.17 in /Users/abhinavramalingam/Documents/Uppsala/IID/.conda/lib/python3.10/site-packages (from requests<3,>=2.21.0->tensorflow) (2024.8.30)\n",
      "Requirement already satisfied: markdown>=2.6.8 in /Users/abhinavramalingam/Documents/Uppsala/IID/.conda/lib/python3.10/site-packages (from tensorboard<2.19,>=2.18->tensorflow) (3.7)\n",
      "Requirement already satisfied: tensorboard-data-server<0.8.0,>=0.7.0 in /Users/abhinavramalingam/Documents/Uppsala/IID/.conda/lib/python3.10/site-packages (from tensorboard<2.19,>=2.18->tensorflow) (0.7.2)\n",
      "Requirement already satisfied: werkzeug>=1.0.1 in /Users/abhinavramalingam/Documents/Uppsala/IID/.conda/lib/python3.10/site-packages (from tensorboard<2.19,>=2.18->tensorflow) (3.1.3)\n",
      "Requirement already satisfied: MarkupSafe>=2.1.1 in /Users/abhinavramalingam/Documents/Uppsala/IID/.conda/lib/python3.10/site-packages (from werkzeug>=1.0.1->tensorboard<2.19,>=2.18->tensorflow) (3.0.2)\n",
      "Requirement already satisfied: markdown-it-py>=2.2.0 in /Users/abhinavramalingam/Documents/Uppsala/IID/.conda/lib/python3.10/site-packages (from rich->keras>=3.5.0->tensorflow) (3.0.0)\n",
      "Requirement already satisfied: pygments<3.0.0,>=2.13.0 in /Users/abhinavramalingam/Documents/Uppsala/IID/.conda/lib/python3.10/site-packages (from rich->keras>=3.5.0->tensorflow) (2.18.0)\n",
      "Requirement already satisfied: mdurl~=0.1 in /Users/abhinavramalingam/Documents/Uppsala/IID/.conda/lib/python3.10/site-packages (from markdown-it-py>=2.2.0->rich->keras>=3.5.0->tensorflow) (0.1.2)\n",
      "Note: you may need to restart the kernel to use updated packages.\n"
     ]
    }
   ],
   "source": [
    "%pip install tensorflow"
   ]
  },
  {
   "cell_type": "code",
   "execution_count": 2,
   "id": "fe63fe6d",
   "metadata": {},
   "outputs": [],
   "source": [
    "import pandas as pd\n",
    "import numpy as np\n",
    "import matplotlib.pyplot as plt\n",
    "from sklearn.model_selection import train_test_split\n",
    "from sklearn.preprocessing import LabelEncoder, StandardScaler\n",
    "from sklearn.metrics import classification_report, accuracy_score\n",
    "from tensorflow.keras.models import Sequential\n",
    "from tensorflow.keras.layers import Dense\n",
    "from tensorflow.keras.utils import to_categorical\n",
    "from tensorflow.keras.callbacks import EarlyStopping\n",
    "from sklearn.ensemble import RandomForestClassifier, GradientBoostingClassifier\n",
    "from sklearn.svm import SVC\n",
    "from sklearn.neighbors import KNeighborsClassifier\n",
    "from sklearn.metrics import accuracy_score, precision_score, recall_score, f1_score"
   ]
  },
  {
   "cell_type": "markdown",
   "id": "1e7b60f9",
   "metadata": {},
   "source": [
    "## Preprocessing"
   ]
  },
  {
   "cell_type": "code",
   "execution_count": 13,
   "id": "70dec7ed",
   "metadata": {},
   "outputs": [],
   "source": [
    "train_data = pd.read_csv(\"dataset.csv\")\n",
    "test_data = pd.read_csv(\"test_to_submit.csv\")\n",
    "\n",
    "label_encoder = LabelEncoder()\n",
    "train_data['emotion'] = label_encoder.fit_transform(train_data['emotion'])\n",
    "\n",
    "\n",
    "X = train_data.drop(columns=['emotion'])  \n",
    "y = train_data['emotion'] \n",
    "\n",
    "\n",
    "scaler = StandardScaler()\n",
    "X = scaler.fit_transform(X)\n",
    "test_to_submit = scaler.transform(test_data) \n",
    "\n",
    "\n",
    "X_train, X_temp, y_train, y_temp = train_test_split(X, y, test_size=0.3, stratify=y, random_state=42)\n",
    "X_val, X_test, y_val, y_test = train_test_split(X_temp, y_temp, test_size=0.5, stratify=y_temp, random_state=42)\n"
   ]
  },
  {
   "cell_type": "code",
   "execution_count": 14,
   "id": "e79e9ea4",
   "metadata": {},
   "outputs": [
    {
     "data": {
      "text/plain": [
       "(812,)"
      ]
     },
     "execution_count": 14,
     "metadata": {},
     "output_type": "execute_result"
    }
   ],
   "source": [
    "y_train.shape"
   ]
  },
  {
   "cell_type": "markdown",
   "id": "b87a6f5f",
   "metadata": {},
   "source": [
    "## Selection of the model"
   ]
  },
  {
   "cell_type": "markdown",
   "id": "f7bf5510",
   "metadata": {},
   "source": [
    "### Basic Machine Learning models"
   ]
  },
  {
   "cell_type": "code",
   "execution_count": 4,
   "id": "7ca3e7b5",
   "metadata": {},
   "outputs": [
    {
     "name": "stdout",
     "output_type": "stream",
     "text": [
      "                    Model                                         Parameters  \\\n",
      "0           Random Forest  {'bootstrap': True, 'ccp_alpha': 0.0, 'class_w...   \n",
      "1  Support Vector Machine  {'C': 1.0, 'break_ties': False, 'cache_size': ...   \n",
      "2     K-Nearest Neighbors  {'algorithm': 'auto', 'leaf_size': 30, 'metric...   \n",
      "3       Gradient Boosting  {'ccp_alpha': 0.0, 'criterion': 'friedman_mse'...   \n",
      "\n",
      "   Accuracy  \n",
      "0  0.600000  \n",
      "1  0.542857  \n",
      "2  0.582857  \n",
      "3  0.600000  \n"
     ]
    }
   ],
   "source": [
    "models = {\n",
    "    \"Random Forest\": RandomForestClassifier(random_state=42, class_weight='balanced'),\n",
    "    \"Support Vector Machine\": SVC(kernel='linear', random_state=42, class_weight='balanced'),\n",
    "    \"K-Nearest Neighbors\": KNeighborsClassifier(n_neighbors=7),\n",
    "    \"Gradient Boosting\": GradientBoostingClassifier(random_state=42)\n",
    "}\n",
    "\n",
    "results = []\n",
    "\n",
    "# Open a text file to write results\n",
    "with open(\"model_results.txt\", \"a\") as file:\n",
    "    for model_name, model in models.items():\n",
    "       \n",
    "        model.fit(X_train, y_train)\n",
    "        y_pred = model.predict(X_test)\n",
    "        \n",
    "        accuracy = accuracy_score(y_test, y_pred)\n",
    "        \n",
    "        result = {\n",
    "            \"Model\": model_name,\n",
    "            \"Parameters\": model.get_params(),\n",
    "            \"Accuracy\": accuracy\n",
    "        }\n",
    "        results.append(result)\n",
    "        \n",
    "        file.write(f\"Model: {model_name}\\n\")\n",
    "        file.write(f\"Parameters: {result['Parameters']}\\n\")\n",
    "        file.write(f\"Accuracy: {accuracy:.4f}\\n\")\n",
    "        file.write(\"=\"*40 + \"\\n\")\n",
    "\n",
    "results_df = pd.DataFrame(results)\n",
    "print(results_df)"
   ]
  },
  {
   "cell_type": "code",
   "execution_count": 7,
   "id": "ac9f8bdc",
   "metadata": {},
   "outputs": [
    {
     "data": {
      "text/plain": [
       "(812,)"
      ]
     },
     "execution_count": 7,
     "metadata": {},
     "output_type": "execute_result"
    }
   ],
   "source": [
    "y_train.shape"
   ]
  },
  {
   "cell_type": "markdown",
   "id": "ea2afb70",
   "metadata": {},
   "source": [
    "### MLP model"
   ]
  },
  {
   "cell_type": "code",
   "execution_count": 6,
   "id": "5cd9d1b7",
   "metadata": {},
   "outputs": [
    {
     "ename": "IndexError",
     "evalue": "tuple index out of range",
     "output_type": "error",
     "traceback": [
      "\u001b[0;31m---------------------------------------------------------------------------\u001b[0m",
      "\u001b[0;31mIndexError\u001b[0m                                Traceback (most recent call last)",
      "Cell \u001b[0;32mIn[6], line 6\u001b[0m\n\u001b[1;32m      4\u001b[0m model\u001b[38;5;241m.\u001b[39madd(Dense(\u001b[38;5;241m32\u001b[39m, activation\u001b[38;5;241m=\u001b[39m\u001b[38;5;124m'\u001b[39m\u001b[38;5;124mrelu\u001b[39m\u001b[38;5;124m'\u001b[39m))\n\u001b[1;32m      5\u001b[0m model\u001b[38;5;241m.\u001b[39madd(Dense(\u001b[38;5;241m16\u001b[39m, activation\u001b[38;5;241m=\u001b[39m\u001b[38;5;124m'\u001b[39m\u001b[38;5;124mrelu\u001b[39m\u001b[38;5;124m'\u001b[39m)) \n\u001b[0;32m----> 6\u001b[0m model\u001b[38;5;241m.\u001b[39madd(Dense(\u001b[43my_train\u001b[49m\u001b[38;5;241;43m.\u001b[39;49m\u001b[43mshape\u001b[49m\u001b[43m[\u001b[49m\u001b[38;5;241;43m1\u001b[39;49m\u001b[43m]\u001b[49m, activation\u001b[38;5;241m=\u001b[39m\u001b[38;5;124m'\u001b[39m\u001b[38;5;124msoftmax\u001b[39m\u001b[38;5;124m'\u001b[39m)) \n\u001b[1;32m      8\u001b[0m model\u001b[38;5;241m.\u001b[39mcompile(loss\u001b[38;5;241m=\u001b[39m\u001b[38;5;124m'\u001b[39m\u001b[38;5;124mcategorical_crossentropy\u001b[39m\u001b[38;5;124m'\u001b[39m, optimizer\u001b[38;5;241m=\u001b[39m\u001b[38;5;124m'\u001b[39m\u001b[38;5;124madam\u001b[39m\u001b[38;5;124m'\u001b[39m, metrics\u001b[38;5;241m=\u001b[39m[\u001b[38;5;124m'\u001b[39m\u001b[38;5;124maccuracy\u001b[39m\u001b[38;5;124m'\u001b[39m])\n\u001b[1;32m     10\u001b[0m model\u001b[38;5;241m.\u001b[39msummary()\n",
      "\u001b[0;31mIndexError\u001b[0m: tuple index out of range"
     ]
    }
   ],
   "source": [
    "model = Sequential()\n",
    "\n",
    "model.add(Dense(64, input_dim=X_train.shape[1], activation='relu')) \n",
    "model.add(Dense(32, activation='relu'))\n",
    "model.add(Dense(16, activation='relu')) \n",
    "model.add(Dense(y_train.shape[1], activation='softmax')) \n",
    "\n",
    "model.compile(loss='categorical_crossentropy', optimizer='adam', metrics=['accuracy'])\n",
    "\n",
    "model.summary()"
   ]
  },
  {
   "cell_type": "code",
   "execution_count": null,
   "id": "33770ec4",
   "metadata": {},
   "outputs": [],
   "source": [
    "# Early stopping to avoid overfitting\n",
    "early_stopping = EarlyStopping(monitor='val_loss', patience=15, restore_best_weights=True)\n",
    "\n",
    "# Train the model\n",
    "history = model.fit(X_train, y_train, epochs=100, batch_size=32, \n",
    "                    validation_data=(X_val, y_val), \n",
    "                    callbacks=[early_stopping])"
   ]
  },
  {
   "cell_type": "markdown",
   "id": "bab4193f",
   "metadata": {},
   "source": [
    "## Hyperparameters tuning"
   ]
  },
  {
   "cell_type": "code",
   "execution_count": null,
   "id": "8bc1c62e",
   "metadata": {},
   "outputs": [],
   "source": [
    "neurons = [32, 48, 64, 128]  \n",
    "hidden_layer_options = [1, 2, 3] \n",
    "best_accuracy = 0\n",
    "accuracies = []\n",
    "\n",
    "for num_layers in hidden_layer_options:\n",
    "    for neuron in neurons:\n",
    "       \n",
    "        model = Sequential()\n",
    "        model.add(Dense(neuron, input_dim=X_train.shape[1], activation='relu'))  \n",
    "        for _ in range(num_layers - 1):  \n",
    "            model.add(Dense(neuron // 2, activation='relu'))\n",
    "        model.add(Dense(y_train.shape[1], activation='softmax')) \n",
    "        \n",
    "        model.compile(loss='categorical_crossentropy', optimizer='adam', metrics=['accuracy'])\n",
    "        \n",
    "        early_stopping = EarlyStopping(monitor='val_loss', patience=10, restore_best_weights=True)\n",
    "        \n",
    "\n",
    "        history = model.fit(X_train, y_train, epochs=50, batch_size=32, \n",
    "                            validation_data=(X_val, y_val), callbacks=[early_stopping])\n",
    "        \n",
    "\n",
    "        _, accuracy = model.evaluate(X_test, y_test)\n",
    "        accuracies.append((num_layers, neuron, accuracy))  \n",
    "\n",
    "        if accuracy > best_accuracy:\n",
    "            best_accuracy = accuracy\n",
    "            best_model = model\n",
    "\n",
    "print(f\"Best Model Test Accuracy: {best_accuracy * 100:.2f}%\")\n",
    "print(\"Best Model:\", best_model.summary())\n",
    "\n",
    "accuracies_np = np.array(accuracies)\n",
    "neurons_list = accuracies_np[:, 1] \n",
    "accuracies_per_layers = {layer: [] for layer in hidden_layer_options}\n",
    "\n",
    "for (num_layers, neuron, accuracy) in accuracies:\n",
    "    accuracies_per_layers[num_layers].append((neuron, accuracy))"
   ]
  },
  {
   "cell_type": "markdown",
   "id": "6f46753a",
   "metadata": {},
   "source": [
    "## Analysis and comparison"
   ]
  },
  {
   "cell_type": "code",
   "execution_count": null,
   "id": "71f003a8",
   "metadata": {},
   "outputs": [],
   "source": [
    "plt.figure(figsize=(10, 6))\n",
    "for num_layers, results in accuracies_per_layers.items():\n",
    "    neurons_vals, accuracies_vals = zip(*results)\n",
    "    plt.plot(neurons_vals, accuracies_vals, label=f'{num_layers} Layers', marker='o')\n",
    "\n",
    "plt.xlabel('Number of Neurons in Hidden Layers')\n",
    "plt.ylabel('Test Accuracy')\n",
    "plt.title('Effect of Hidden Layers and Neurons on Model Accuracy')\n",
    "plt.legend()\n",
    "plt.grid(True)\n",
    "plt.savefig(\"analysis.pdf\")\n",
    "plt.show()"
   ]
  },
  {
   "cell_type": "markdown",
   "id": "af526912",
   "metadata": {},
   "source": [
    "## Classification of the samples"
   ]
  },
  {
   "cell_type": "code",
   "execution_count": null,
   "id": "dc52a6f5",
   "metadata": {},
   "outputs": [],
   "source": [
    "test_predictions = best_model.predict(test_to_submit)\n",
    "\n",
    "predicted_labels = np.argmax(test_predictions, axis=1)\n",
    "\n",
    "submission = pd.DataFrame(predicted_labels, columns=['emotion'])\n",
    "\n",
    "emotion_labels = list(y.columns)  \n",
    "submission['emotion'] = submission['emotion'].map(lambda x: emotion_labels[x])\n",
    "\n",
    "submission.to_csv('submission.csv', index=False)"
   ]
  }
 ],
 "metadata": {
  "kernelspec": {
   "display_name": "Python 3 (ipykernel)",
   "language": "python",
   "name": "python3"
  },
  "language_info": {
   "codemirror_mode": {
    "name": "ipython",
    "version": 3
   },
   "file_extension": ".py",
   "mimetype": "text/x-python",
   "name": "python",
   "nbconvert_exporter": "python",
   "pygments_lexer": "ipython3",
   "version": "3.10.15"
  }
 },
 "nbformat": 4,
 "nbformat_minor": 5
}
